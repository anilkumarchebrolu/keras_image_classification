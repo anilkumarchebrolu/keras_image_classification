{
  "nbformat": 4,
  "nbformat_minor": 0,
  "metadata": {
    "colab": {
      "name": "Keras_image_classification_with_concrete_crack_dataset.ipynb",
      "provenance": [],
      "authorship_tag": "ABX9TyO8LWquYq2SPuzA8j5od7lv",
      "include_colab_link": true
    },
    "kernelspec": {
      "name": "python3",
      "display_name": "Python 3"
    },
    "accelerator": "GPU"
  },
  "cells": [
    {
      "cell_type": "markdown",
      "metadata": {
        "id": "view-in-github",
        "colab_type": "text"
      },
      "source": [
        "<a href=\"https://colab.research.google.com/github/anilkumarchebrolu/keras_image_classification/blob/master/Keras_image_classification_with_concrete_crack_dataset.ipynb\" target=\"_parent\"><img src=\"https://colab.research.google.com/assets/colab-badge.svg\" alt=\"Open In Colab\"/></a>"
      ]
    },
    {
      "cell_type": "markdown",
      "metadata": {
        "id": "hBMZia3ZW4Au",
        "colab_type": "text"
      },
      "source": [
        "# Introduction\n",
        "\n",
        "This is a simple script to understand Keras Image Classification to verify whether Concrete Cracked or not (Concrete Crack dataset)\n",
        "\n",
        "\n",
        "\n",
        "*   Install necessary packages.\n",
        "*   Download the data also visualizing the same.\n",
        "*   Splitting the dataset\n",
        "*   Creating and Training Model\n",
        "*   Model Prediction\n",
        "*   Using Metrics to evaluate model\n",
        "\n",
        "\n",
        "\n",
        "\n",
        "\n",
        "\n",
        "\n",
        "\n",
        "\n",
        "\n"
      ]
    },
    {
      "cell_type": "markdown",
      "metadata": {
        "id": "lfB_fngWEUGa",
        "colab_type": "text"
      },
      "source": [
        "## Packages to Install"
      ]
    },
    {
      "cell_type": "code",
      "metadata": {
        "id": "7oVY3usECNlI",
        "colab_type": "code",
        "colab": {
          "base_uri": "https://localhost:8080/",
          "height": 632
        },
        "outputId": "8ca7ec9c-052f-4bf6-9782-9471ea4c2a40"
      },
      "source": [
        "!pip install rarfile\n",
        "!pip install tensorflow-gpu==1.15.0\n",
        "!pip install Keras==2.3.1"
      ],
      "execution_count": null,
      "outputs": [
        {
          "output_type": "stream",
          "text": [
            "Requirement already satisfied: rarfile in /usr/local/lib/python3.6/dist-packages (4.0)\n",
            "Collecting tensorflow-gpu==1.15.0\n",
            "  Using cached https://files.pythonhosted.org/packages/a5/ad/933140e74973fb917a194ab814785e7c23680ca5dee6d663a509fe9579b6/tensorflow_gpu-1.15.0-cp36-cp36m-manylinux2010_x86_64.whl\n",
            "Requirement already satisfied: tensorboard<1.16.0,>=1.15.0 in /usr/local/lib/python3.6/dist-packages (from tensorflow-gpu==1.15.0) (1.15.0)\n",
            "Requirement already satisfied: keras-preprocessing>=1.0.5 in /usr/local/lib/python3.6/dist-packages (from tensorflow-gpu==1.15.0) (1.1.2)\n",
            "Requirement already satisfied: termcolor>=1.1.0 in /usr/local/lib/python3.6/dist-packages (from tensorflow-gpu==1.15.0) (1.1.0)\n",
            "Requirement already satisfied: protobuf>=3.6.1 in /usr/local/lib/python3.6/dist-packages (from tensorflow-gpu==1.15.0) (3.12.4)\n",
            "Requirement already satisfied: absl-py>=0.7.0 in /usr/local/lib/python3.6/dist-packages (from tensorflow-gpu==1.15.0) (0.8.1)\n",
            "Requirement already satisfied: keras-applications>=1.0.8 in /usr/local/lib/python3.6/dist-packages (from tensorflow-gpu==1.15.0) (1.0.8)\n",
            "Requirement already satisfied: tensorflow-estimator==1.15.1 in /usr/local/lib/python3.6/dist-packages (from tensorflow-gpu==1.15.0) (1.15.1)\n",
            "Requirement already satisfied: opt-einsum>=2.3.2 in /usr/local/lib/python3.6/dist-packages (from tensorflow-gpu==1.15.0) (3.3.0)\n",
            "Requirement already satisfied: wrapt>=1.11.1 in /usr/local/lib/python3.6/dist-packages (from tensorflow-gpu==1.15.0) (1.12.1)\n",
            "Requirement already satisfied: wheel>=0.26 in /usr/local/lib/python3.6/dist-packages (from tensorflow-gpu==1.15.0) (0.35.1)\n",
            "Requirement already satisfied: six>=1.10.0 in /usr/local/lib/python3.6/dist-packages (from tensorflow-gpu==1.15.0) (1.15.0)\n",
            "Requirement already satisfied: numpy<2.0,>=1.16.0 in /usr/local/lib/python3.6/dist-packages (from tensorflow-gpu==1.15.0) (1.18.5)\n",
            "Requirement already satisfied: gast==0.2.2 in /usr/local/lib/python3.6/dist-packages (from tensorflow-gpu==1.15.0) (0.2.2)\n",
            "Requirement already satisfied: google-pasta>=0.1.6 in /usr/local/lib/python3.6/dist-packages (from tensorflow-gpu==1.15.0) (0.2.0)\n",
            "Requirement already satisfied: astor>=0.6.0 in /usr/local/lib/python3.6/dist-packages (from tensorflow-gpu==1.15.0) (0.8.1)\n",
            "Requirement already satisfied: grpcio>=1.8.6 in /usr/local/lib/python3.6/dist-packages (from tensorflow-gpu==1.15.0) (1.31.0)\n",
            "Requirement already satisfied: markdown>=2.6.8 in /usr/local/lib/python3.6/dist-packages (from tensorboard<1.16.0,>=1.15.0->tensorflow-gpu==1.15.0) (3.2.2)\n",
            "Requirement already satisfied: werkzeug>=0.11.15 in /usr/local/lib/python3.6/dist-packages (from tensorboard<1.16.0,>=1.15.0->tensorflow-gpu==1.15.0) (1.0.1)\n",
            "Requirement already satisfied: setuptools>=41.0.0 in /usr/local/lib/python3.6/dist-packages (from tensorboard<1.16.0,>=1.15.0->tensorflow-gpu==1.15.0) (49.6.0)\n",
            "Requirement already satisfied: h5py in /usr/local/lib/python3.6/dist-packages (from keras-applications>=1.0.8->tensorflow-gpu==1.15.0) (2.10.0)\n",
            "Requirement already satisfied: importlib-metadata; python_version < \"3.8\" in /usr/local/lib/python3.6/dist-packages (from markdown>=2.6.8->tensorboard<1.16.0,>=1.15.0->tensorflow-gpu==1.15.0) (1.7.0)\n",
            "Requirement already satisfied: zipp>=0.5 in /usr/local/lib/python3.6/dist-packages (from importlib-metadata; python_version < \"3.8\"->markdown>=2.6.8->tensorboard<1.16.0,>=1.15.0->tensorflow-gpu==1.15.0) (3.1.0)\n",
            "Installing collected packages: tensorflow-gpu\n",
            "Successfully installed tensorflow-gpu-1.15.0\n",
            "Requirement already satisfied: Keras==2.3.1 in /usr/local/lib/python3.6/dist-packages (2.3.1)\n",
            "Requirement already satisfied: six>=1.9.0 in /usr/local/lib/python3.6/dist-packages (from Keras==2.3.1) (1.15.0)\n",
            "Requirement already satisfied: scipy>=0.14 in /usr/local/lib/python3.6/dist-packages (from Keras==2.3.1) (1.4.1)\n",
            "Requirement already satisfied: numpy>=1.9.1 in /usr/local/lib/python3.6/dist-packages (from Keras==2.3.1) (1.18.5)\n",
            "Requirement already satisfied: h5py in /usr/local/lib/python3.6/dist-packages (from Keras==2.3.1) (2.10.0)\n",
            "Requirement already satisfied: pyyaml in /usr/local/lib/python3.6/dist-packages (from Keras==2.3.1) (3.13)\n",
            "Requirement already satisfied: keras-applications>=1.0.6 in /usr/local/lib/python3.6/dist-packages (from Keras==2.3.1) (1.0.8)\n",
            "Requirement already satisfied: keras-preprocessing>=1.0.5 in /usr/local/lib/python3.6/dist-packages (from Keras==2.3.1) (1.1.2)\n"
          ],
          "name": "stdout"
        }
      ]
    },
    {
      "cell_type": "code",
      "metadata": {
        "id": "4DwqYTuvtlmz",
        "colab_type": "code",
        "colab": {}
      },
      "source": [
        "# Restarting Run time\n",
        "exit()"
      ],
      "execution_count": null,
      "outputs": []
    },
    {
      "cell_type": "markdown",
      "metadata": {
        "id": "P9fRSqfVEa5p",
        "colab_type": "text"
      },
      "source": [
        "## Fetching Dataset"
      ]
    },
    {
      "cell_type": "markdown",
      "metadata": {
        "id": "OM_bsPUO_Q8a",
        "colab_type": "text"
      },
      "source": [
        "Concrete crack image classification dataset consists of images of concrete with cracks and without cracks. \n",
        "\n",
        "Out goal is to classify them properly (https://data.mendeley.com/datasets/5y9wdsg2zt/2)\n",
        "\n",
        "\n"
      ]
    },
    {
      "cell_type": "code",
      "metadata": {
        "id": "g7o-4K4e_Png",
        "colab_type": "code",
        "colab": {}
      },
      "source": [
        "import requests, zipfile, io\n",
        "import rarfile\n",
        "\n",
        "# Downloading dataset file and storing it locally\n",
        "dataset_url = \"https://md-datasets-cache-zipfiles-prod.s3.eu-west-1.amazonaws.com/5y9wdsg2zt-2.zip\"\n",
        "r = requests.get(dataset_url, stream=True)\n",
        "z = zipfile.ZipFile(io.BytesIO(r.content))\n",
        "z.extractall(\"/root/cc_dataset\")\n",
        "\n",
        "# Downloaded dataset is extracted\n",
        "rar_file = rarfile.RarFile(\"/root/cc_dataset/Concrete Crack Images for Classification.rar\")\n",
        "rar_file.extractall(\"/root/cc_dataset/cc_dataset_extracted\")"
      ],
      "execution_count": null,
      "outputs": []
    },
    {
      "cell_type": "markdown",
      "metadata": {
        "id": "fDa-t9udE-e5",
        "colab_type": "text"
      },
      "source": [
        "## Splitting the dataset"
      ]
    },
    {
      "cell_type": "code",
      "metadata": {
        "id": "VjezTWhQHbKi",
        "colab_type": "code",
        "colab": {
          "base_uri": "https://localhost:8080/",
          "height": 34
        },
        "outputId": "b1773554-b105-4dc7-c92d-ae3fafc00b91"
      },
      "source": [
        "# Imports for this section\n",
        "import os\n",
        "from pathlib import Path\n",
        "import cv2\n",
        "import random\n",
        "import keras\n",
        "from keras.utils import np_utils"
      ],
      "execution_count": null,
      "outputs": [
        {
          "output_type": "stream",
          "text": [
            "Using TensorFlow backend.\n"
          ],
          "name": "stderr"
        }
      ]
    },
    {
      "cell_type": "code",
      "metadata": {
        "id": "NPJQDaVIE9oI",
        "colab_type": "code",
        "colab": {
          "base_uri": "https://localhost:8080/",
          "height": 51
        },
        "outputId": "8626617a-7fe6-42ed-a715-1daa391917ca"
      },
      "source": [
        "# Creating dataset by loading images from 'Positive' and 'Negative' folders\n",
        "# Restricting dataset to 20K images due to memory issues\n",
        "dataset_path = Path(\"/root/cc_dataset/cc_dataset_extracted\")\n",
        "\n",
        "X = []\n",
        "y = []\n",
        "for folder in os.listdir(dataset_path):\n",
        "    print(f\"Number of {folder} images are {len(os.listdir(dataset_path/folder))}\")\n",
        "    for idx, image in enumerate(os.listdir(dataset_path/folder)):\n",
        "        if idx >= 10000:\n",
        "            break\n",
        "        image_array = cv2.imread(str(dataset_path/folder/image))\n",
        "        X.append(image_array)\n",
        "        if folder == \"Positive\":\n",
        "            y.append(1)\n",
        "        else:\n",
        "            y.append(0)"
      ],
      "execution_count": null,
      "outputs": [
        {
          "output_type": "stream",
          "text": [
            "Number of Negative images are 20000\n",
            "Number of Positive images are 20000\n"
          ],
          "name": "stdout"
        }
      ]
    },
    {
      "cell_type": "code",
      "metadata": {
        "id": "75HTcuniy-B6",
        "colab_type": "code",
        "colab": {}
      },
      "source": [
        "# One Hot encoding of y\n",
        "y = np_utils.to_categorical(y, num_classes=2)"
      ],
      "execution_count": null,
      "outputs": []
    },
    {
      "cell_type": "markdown",
      "metadata": {
        "id": "HXB46W_eI4XJ",
        "colab_type": "text"
      },
      "source": [
        "### Visualize Image"
      ]
    },
    {
      "cell_type": "code",
      "metadata": {
        "id": "fm_W-YF_IkGO",
        "colab_type": "code",
        "colab": {}
      },
      "source": [
        "# Visualize image\n",
        "from google.colab.patches import cv2_imshow\n",
        "\n",
        "def show_cv_image(image_numpy):\n",
        "    cv2_imshow(image_numpy)"
      ],
      "execution_count": null,
      "outputs": []
    },
    {
      "cell_type": "code",
      "metadata": {
        "id": "zncvW13WIz-C",
        "colab_type": "code",
        "colab": {}
      },
      "source": [
        "# Randomly Picks an Image and Shows its class\n",
        "# To visualize dataset run this module multiple times\n",
        "\n",
        "random_num = random.randint(0,len(X)-1)\n",
        "if y[random_num][1]:\n",
        "  print(\"Cracked Concrete Image 'positive'\\n\")\n",
        "else:\n",
        "  print(\"Non Cracked Concrete Image 'Negative'\\n\")\n",
        "show_cv_image(X[random_num])\n"
      ],
      "execution_count": null,
      "outputs": []
    },
    {
      "cell_type": "markdown",
      "metadata": {
        "id": "t0f8eSyHLPEg",
        "colab_type": "text"
      },
      "source": [
        "Split Train, Val and Test Dataset"
      ]
    },
    {
      "cell_type": "code",
      "metadata": {
        "id": "Gc9UBwthLS9u",
        "colab_type": "code",
        "colab": {}
      },
      "source": [
        "from sklearn.model_selection import train_test_split\n",
        "import numpy as np\n",
        "random.seed(4)"
      ],
      "execution_count": null,
      "outputs": []
    },
    {
      "cell_type": "code",
      "metadata": {
        "id": "xnNfqqRxz94p",
        "colab_type": "code",
        "colab": {}
      },
      "source": [
        "# Transforming List of X and y into numpay arrays\n",
        "X = np.array(X)\n",
        "y = np.array(y)"
      ],
      "execution_count": null,
      "outputs": []
    },
    {
      "cell_type": "code",
      "metadata": {
        "id": "HPgmiHgoLZTW",
        "colab_type": "code",
        "colab": {}
      },
      "source": [
        "X_train, X_tv, y_train, y_tv = train_test_split(X, y, shuffle=True, test_size = 0.2)\n",
        "X_val, X_test, y_val, y_test = train_test_split(X_tv, y_tv, shuffle=False, test_size = 0.2)"
      ],
      "execution_count": null,
      "outputs": []
    },
    {
      "cell_type": "code",
      "metadata": {
        "id": "T247noqVNWQF",
        "colab_type": "code",
        "colab": {}
      },
      "source": [
        "print(f\"length of training samples {len(X_train)}\")\n",
        "print(f\"length of validation samples {len(X_val)}\")\n",
        "print(f\"length of test samples {len(X_test)}\")"
      ],
      "execution_count": null,
      "outputs": []
    },
    {
      "cell_type": "markdown",
      "metadata": {
        "id": "hz2OgBZMI0Jj",
        "colab_type": "text"
      },
      "source": [
        "# Model Training"
      ]
    },
    {
      "cell_type": "code",
      "metadata": {
        "id": "yK14TVO6l6rY",
        "colab_type": "code",
        "colab": {}
      },
      "source": [
        "import keras\n",
        "from keras import Sequential\n",
        "from keras.layers import Conv2D, MaxPooling2D, AveragePooling1D, Activation, Flatten, Dense, Dropout\n",
        "from keras.activations import relu, softmax\n",
        "from keras.optimizers import Adam\n",
        "from keras.losses import categorical_crossentropy, sparse_categorical_crossentropy\n",
        "from keras.metrics import Accuracy\n",
        "from keras.utils.np_utils import to_categorical\n",
        "\n",
        "keras.backend.set_image_data_format(\"channels_last\")"
      ],
      "execution_count": null,
      "outputs": []
    },
    {
      "cell_type": "code",
      "metadata": {
        "id": "HY7oCpPXqyF6",
        "colab_type": "code",
        "colab": {}
      },
      "source": [
        "# Model Creation"
      ],
      "execution_count": null,
      "outputs": []
    },
    {
      "cell_type": "code",
      "metadata": {
        "id": "pBK4H1IvnIcS",
        "colab_type": "code",
        "colab": {}
      },
      "source": [
        "model = Sequential()\n",
        "model.add(Conv2D(input_shape=X_train[0].shape, filters= 64, kernel_size = 3, strides= (2,2)))\n",
        "model.add(Activation(relu))\n",
        "model.add(Conv2D(filters= 64, kernel_size = 3, strides= (2,2)))\n",
        "model.add(Activation(relu))\n",
        "model.add(Conv2D(filters= 64, kernel_size = 3, strides= (2,2)))\n",
        "model.add(Activation(relu))\n",
        "model.add(Conv2D(filters= 128, kernel_size = 3, strides= (2,2)))\n",
        "model.add(Activation(relu))\n",
        "model.add(Flatten())\n",
        "model.add(Dense(256))\n",
        "model.add(Dropout(0.5))\n",
        "model.add(Activation(relu))\n",
        "model.add(Dense(64))\n",
        "model.add(Activation(relu))\n",
        "model.add(Dense(2))\n",
        "model.add(Activation(softmax))"
      ],
      "execution_count": null,
      "outputs": []
    },
    {
      "cell_type": "code",
      "metadata": {
        "id": "eQGEsoFKYDnl",
        "colab_type": "code",
        "colab": {}
      },
      "source": [
        "model.summary()"
      ],
      "execution_count": null,
      "outputs": []
    },
    {
      "cell_type": "code",
      "metadata": {
        "id": "FYMH-41-q0cT",
        "colab_type": "code",
        "colab": {}
      },
      "source": [
        "# Model Compilation"
      ],
      "execution_count": null,
      "outputs": []
    },
    {
      "cell_type": "code",
      "metadata": {
        "id": "3lFVoVJBcBip",
        "colab_type": "code",
        "colab": {}
      },
      "source": [
        "model.compile(Adam(), loss=categorical_crossentropy, metrics=['accuracy'])"
      ],
      "execution_count": null,
      "outputs": []
    },
    {
      "cell_type": "code",
      "metadata": {
        "id": "tharEHg1iLur",
        "colab_type": "code",
        "colab": {}
      },
      "source": [
        "# Model Fit"
      ],
      "execution_count": null,
      "outputs": []
    },
    {
      "cell_type": "code",
      "metadata": {
        "id": "uPw4-FA0dr1f",
        "colab_type": "code",
        "colab": {}
      },
      "source": [
        "model.fit(X_train, y_train, batch_size=100, epochs = 10, validation_data=(X_val, y_val))"
      ],
      "execution_count": null,
      "outputs": []
    },
    {
      "cell_type": "markdown",
      "metadata": {
        "id": "4Rr54HCp10m8",
        "colab_type": "text"
      },
      "source": [
        "# Model Prediction and Manual Validation\n"
      ]
    },
    {
      "cell_type": "code",
      "metadata": {
        "id": "ys-asH3h10Hs",
        "colab_type": "code",
        "colab": {}
      },
      "source": [
        "y_pred = model.predict_classes(X_val, batch_size=30)"
      ],
      "execution_count": null,
      "outputs": []
    },
    {
      "cell_type": "code",
      "metadata": {
        "id": "_iY6Il2M2FLz",
        "colab_type": "code",
        "colab": {}
      },
      "source": [
        "y_pred"
      ],
      "execution_count": null,
      "outputs": []
    },
    {
      "cell_type": "code",
      "metadata": {
        "id": "WuHrF8rB2GvO",
        "colab_type": "code",
        "colab": {}
      },
      "source": [
        "y_valid = np.argmax(y_val, axis=1)"
      ],
      "execution_count": null,
      "outputs": []
    },
    {
      "cell_type": "code",
      "metadata": {
        "id": "m6riwQCl2vVB",
        "colab_type": "code",
        "colab": {}
      },
      "source": [
        "np.unique(y_pred == y_valid, return_counts=True)"
      ],
      "execution_count": null,
      "outputs": []
    },
    {
      "cell_type": "code",
      "metadata": {
        "id": "X5d6lCDSVk1k",
        "colab_type": "code",
        "colab": {}
      },
      "source": [
        "# Randomly Picks an Image and Shows its class\n",
        "# To visualize dataset run this module multiple times\n",
        "\n",
        "random_num = random.randint(0,len(X_test)-1)\n",
        "\n",
        "if y_test[random_num][1]:\n",
        "  print(\"Cracked Concrete Image 'positive'\")\n",
        "else:\n",
        "  print(\"Non Cracked Concrete Image 'Negative'\")\n",
        "\n",
        "text = \"\"\n",
        "\n",
        "if model.predict_classes(np.array([X_test[random_num]]), batch_size=30)[0]:\n",
        "    text = \"Cracked\"\n",
        "else:\n",
        "    text = \"Not Cracked\"\n",
        "print(f\"Predicted that the concrete image is '{text}'\\n\")\n",
        "show_cv_image(X_test[random_num])\n"
      ],
      "execution_count": null,
      "outputs": []
    },
    {
      "cell_type": "markdown",
      "metadata": {
        "id": "WS-XdT2VJ8cg",
        "colab_type": "text"
      },
      "source": [
        "# Metrics"
      ]
    },
    {
      "cell_type": "code",
      "metadata": {
        "id": "d-nXezMQKuOI",
        "colab_type": "code",
        "colab": {}
      },
      "source": [
        "# Imports\n",
        "from sklearn.metrics import classification_report, confusion_matrix"
      ],
      "execution_count": null,
      "outputs": []
    },
    {
      "cell_type": "code",
      "metadata": {
        "id": "V8OhJlTRJ7iU",
        "colab_type": "code",
        "colab": {}
      },
      "source": [
        "# Confusion Matrix and Classification Report for Train\n",
        "y_pred = model.predict_classes(X_train, batch_size=30)\n",
        "target_names = ['Cracked', 'Not Cracked']\n",
        "print(confusion_matrix(np.argmax(y_train, axis=1), y_pred))\n",
        "print(classification_report(np.argmax(y_train, axis=1), y_pred, target_names=target_names))"
      ],
      "execution_count": null,
      "outputs": []
    },
    {
      "cell_type": "code",
      "metadata": {
        "id": "gSiXOswTK0ND",
        "colab_type": "code",
        "colab": {}
      },
      "source": [
        "# Confusion Matrix and Classification Report for Train\n",
        "y_pred = model.predict_classes(X_val, batch_size=30)\n",
        "print(confusion_matrix(np.argmax(y_val, axis=1), y_pred))\n",
        "target_names = ['Cracked', 'Not Cracked']\n",
        "print(classification_report(np.argmax(y_val, axis=1), y_pred, target_names=target_names))"
      ],
      "execution_count": null,
      "outputs": []
    },
    {
      "cell_type": "code",
      "metadata": {
        "id": "bEnVsFb0K0HG",
        "colab_type": "code",
        "colab": {}
      },
      "source": [
        "# Confusion Matrix and Classification Report for Train\n",
        "y_pred = model.predict_classes(X_test, batch_size=30)\n",
        "print(confusion_matrix(np.argmax(y_test, axis=1), y_pred))\n",
        "target_names = ['Cracked', 'Not Cracked']\n",
        "print(classification_report(np.argmax(y_test, axis=1), y_pred, target_names=target_names))"
      ],
      "execution_count": null,
      "outputs": []
    }
  ]
}